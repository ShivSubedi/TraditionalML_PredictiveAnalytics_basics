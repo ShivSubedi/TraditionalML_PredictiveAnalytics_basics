{
  "nbformat": 4,
  "nbformat_minor": 0,
  "metadata": {
    "colab": {
      "provenance": [],
      "toc_visible": true,
      "authorship_tag": "ABX9TyPe4FczcV/0eYrhK7o8AJLe",
      "include_colab_link": true
    },
    "kernelspec": {
      "name": "python3",
      "display_name": "Python 3"
    },
    "language_info": {
      "name": "python"
    }
  },
  "cells": [
    {
      "cell_type": "markdown",
      "metadata": {
        "id": "view-in-github",
        "colab_type": "text"
      },
      "source": [
        "<a href=\"https://colab.research.google.com/github/ShivSubedi/TraditionalML_PredictiveAnalytics_basics/blob/main/Linear_Regression%5CUnivariate_Linear_Regression_Analysis_with_test_LinearityAssumptions.ipynb\" target=\"_parent\"><img src=\"https://colab.research.google.com/assets/colab-badge.svg\" alt=\"Open In Colab\"/></a>"
      ]
    },
    {
      "cell_type": "markdown",
      "source": [
        "#Univariate Linear Regression Analysis\n",
        "This project demonstrates a simple linear regression model, using a single independent variable (SAT score) to predict the dependent variable (GPA).\n",
        "\n",
        "The approach is inspired by concepts presented in the 'Complete Data Science Bootcamp 2025' course on Udemy, and it expands on these fundamental principles with a detailed explanation of the modeling process, results, and linearity assumption testing."
      ],
      "metadata": {
        "id": "_MJOSPSqe2Ti"
      }
    },
    {
      "cell_type": "markdown",
      "source": [
        "##Step 1: Import the relevant libraries"
      ],
      "metadata": {
        "id": "xYfp4L3Le-3j"
      }
    },
    {
      "cell_type": "code",
      "execution_count": 2,
      "metadata": {
        "id": "GUIsTBMTel_7"
      },
      "outputs": [],
      "source": [
        "import numpy as np\n",
        "import pandas as pd\n",
        "import matplotlib.pyplot as plt\n",
        "import statsmodels.api as sm\n",
        "import seaborn as sns #here we will code using matplotlib, but use 'seaborn' styles\n",
        "sns.set() # overrides the style and the graphics of all matplotlib graphs"
      ]
    },
    {
      "cell_type": "markdown",
      "source": [
        "## Step2: Load the Data\n",
        "Data is saved in the github and will be imported from the github url"
      ],
      "metadata": {
        "id": "zqha2fXKhRp7"
      }
    },
    {
      "cell_type": "code",
      "source": [
        "# Download the file from GitHub\n",
        "github_Rawpath_to_simpleLinearReg_data = \"https://raw.githubusercontent.com/ShivSubedi/TraditionalML_PredictiveAnalytics_basics/refs/heads/main/Linear_Regression/Simple_linear_regression.csv\"\n",
        "!wget -O Simple_linear_regression.csv {github_Rawpath_to_simpleLinearReg_data} #download the csv file"
      ],
      "metadata": {
        "colab": {
          "base_uri": "https://localhost:8080/"
        },
        "id": "4cT4jsfshKGy",
        "outputId": "c5cc7670-b8fa-4cfd-99ce-71a3c523e81b"
      },
      "execution_count": 3,
      "outputs": [
        {
          "output_type": "stream",
          "name": "stdout",
          "text": [
            "--2025-03-24 16:07:25--  https://raw.githubusercontent.com/ShivSubedi/TraditionalML_PredictiveAnalytics_basics/refs/heads/main/Linear_Regression/Simple_linear_regression.csv\n",
            "Resolving raw.githubusercontent.com (raw.githubusercontent.com)... 185.199.108.133, 185.199.109.133, 185.199.110.133, ...\n",
            "Connecting to raw.githubusercontent.com (raw.githubusercontent.com)|185.199.108.133|:443... connected.\n",
            "HTTP request sent, awaiting response... 200 OK\n",
            "Length: 922 [text/plain]\n",
            "Saving to: ‘Simple_linear_regression.csv’\n",
            "\n",
            "Simple_linear_regre 100%[===================>]     922  --.-KB/s    in 0s      \n",
            "\n",
            "2025-03-24 16:07:25 (49.5 MB/s) - ‘Simple_linear_regression.csv’ saved [922/922]\n",
            "\n"
          ]
        }
      ]
    },
    {
      "cell_type": "code",
      "source": [
        "#Load the data\n",
        "data_csv = pd.read_csv('Simple_linear_regression.csv')"
      ],
      "metadata": {
        "id": "xUW3CvgIlYBP"
      },
      "execution_count": 4,
      "outputs": []
    },
    {
      "cell_type": "code",
      "source": [
        "#explore the data type and verify data exists\n",
        "print(type(data_csv)) #check the type of the variable\n",
        "print(data_csv.dtypes) #checks data types of each column in the dataframe\n",
        "print(data_csv.head(10)) #prints the first 10 row entries of the data\n",
        "print(len(data_csv))"
      ],
      "metadata": {
        "id": "0Hr8k0_ls8ar",
        "colab": {
          "base_uri": "https://localhost:8080/"
        },
        "outputId": "d79601eb-c345-410b-d4fd-8ee7a932dfa0"
      },
      "execution_count": 26,
      "outputs": [
        {
          "output_type": "stream",
          "name": "stdout",
          "text": [
            "<class 'pandas.core.frame.DataFrame'>\n",
            "SAT      int64\n",
            "GPA    float64\n",
            "dtype: object\n",
            "    SAT   GPA\n",
            "0  1714  2.40\n",
            "1  1664  2.52\n",
            "2  1760  2.54\n",
            "3  1685  2.74\n",
            "4  1693  2.83\n",
            "5  1670  2.91\n",
            "6  1764  3.00\n",
            "7  1764  3.00\n",
            "8  1792  3.01\n",
            "9  1850  3.01\n",
            "84\n"
          ]
        }
      ]
    },
    {
      "cell_type": "markdown",
      "source": [
        "## Step 3: Descriptive Statistics\n",
        "Outputs the basic descriptive statistics of the data i.e [min, max], mean, quartiles, s.d., count"
      ],
      "metadata": {
        "id": "KGlIS6O1byQr"
      }
    },
    {
      "cell_type": "code",
      "source": [
        "data_csv.describe()"
      ],
      "metadata": {
        "id": "QhydBl9Cs_MS",
        "colab": {
          "base_uri": "https://localhost:8080/",
          "height": 297
        },
        "outputId": "75903f50-049e-4b14-99de-33b4220224db"
      },
      "execution_count": 6,
      "outputs": [
        {
          "output_type": "execute_result",
          "data": {
            "text/plain": [
              "               SAT        GPA\n",
              "count    84.000000  84.000000\n",
              "mean   1845.273810   3.330238\n",
              "std     104.530661   0.271617\n",
              "min    1634.000000   2.400000\n",
              "25%    1772.000000   3.190000\n",
              "50%    1846.000000   3.380000\n",
              "75%    1934.000000   3.502500\n",
              "max    2050.000000   3.810000"
            ],
            "text/html": [
              "\n",
              "  <div id=\"df-c86ab1e7-de15-4e27-982a-a562356f0661\" class=\"colab-df-container\">\n",
              "    <div>\n",
              "<style scoped>\n",
              "    .dataframe tbody tr th:only-of-type {\n",
              "        vertical-align: middle;\n",
              "    }\n",
              "\n",
              "    .dataframe tbody tr th {\n",
              "        vertical-align: top;\n",
              "    }\n",
              "\n",
              "    .dataframe thead th {\n",
              "        text-align: right;\n",
              "    }\n",
              "</style>\n",
              "<table border=\"1\" class=\"dataframe\">\n",
              "  <thead>\n",
              "    <tr style=\"text-align: right;\">\n",
              "      <th></th>\n",
              "      <th>SAT</th>\n",
              "      <th>GPA</th>\n",
              "    </tr>\n",
              "  </thead>\n",
              "  <tbody>\n",
              "    <tr>\n",
              "      <th>count</th>\n",
              "      <td>84.000000</td>\n",
              "      <td>84.000000</td>\n",
              "    </tr>\n",
              "    <tr>\n",
              "      <th>mean</th>\n",
              "      <td>1845.273810</td>\n",
              "      <td>3.330238</td>\n",
              "    </tr>\n",
              "    <tr>\n",
              "      <th>std</th>\n",
              "      <td>104.530661</td>\n",
              "      <td>0.271617</td>\n",
              "    </tr>\n",
              "    <tr>\n",
              "      <th>min</th>\n",
              "      <td>1634.000000</td>\n",
              "      <td>2.400000</td>\n",
              "    </tr>\n",
              "    <tr>\n",
              "      <th>25%</th>\n",
              "      <td>1772.000000</td>\n",
              "      <td>3.190000</td>\n",
              "    </tr>\n",
              "    <tr>\n",
              "      <th>50%</th>\n",
              "      <td>1846.000000</td>\n",
              "      <td>3.380000</td>\n",
              "    </tr>\n",
              "    <tr>\n",
              "      <th>75%</th>\n",
              "      <td>1934.000000</td>\n",
              "      <td>3.502500</td>\n",
              "    </tr>\n",
              "    <tr>\n",
              "      <th>max</th>\n",
              "      <td>2050.000000</td>\n",
              "      <td>3.810000</td>\n",
              "    </tr>\n",
              "  </tbody>\n",
              "</table>\n",
              "</div>\n",
              "    <div class=\"colab-df-buttons\">\n",
              "\n",
              "  <div class=\"colab-df-container\">\n",
              "    <button class=\"colab-df-convert\" onclick=\"convertToInteractive('df-c86ab1e7-de15-4e27-982a-a562356f0661')\"\n",
              "            title=\"Convert this dataframe to an interactive table.\"\n",
              "            style=\"display:none;\">\n",
              "\n",
              "  <svg xmlns=\"http://www.w3.org/2000/svg\" height=\"24px\" viewBox=\"0 -960 960 960\">\n",
              "    <path d=\"M120-120v-720h720v720H120Zm60-500h600v-160H180v160Zm220 220h160v-160H400v160Zm0 220h160v-160H400v160ZM180-400h160v-160H180v160Zm440 0h160v-160H620v160ZM180-180h160v-160H180v160Zm440 0h160v-160H620v160Z\"/>\n",
              "  </svg>\n",
              "    </button>\n",
              "\n",
              "  <style>\n",
              "    .colab-df-container {\n",
              "      display:flex;\n",
              "      gap: 12px;\n",
              "    }\n",
              "\n",
              "    .colab-df-convert {\n",
              "      background-color: #E8F0FE;\n",
              "      border: none;\n",
              "      border-radius: 50%;\n",
              "      cursor: pointer;\n",
              "      display: none;\n",
              "      fill: #1967D2;\n",
              "      height: 32px;\n",
              "      padding: 0 0 0 0;\n",
              "      width: 32px;\n",
              "    }\n",
              "\n",
              "    .colab-df-convert:hover {\n",
              "      background-color: #E2EBFA;\n",
              "      box-shadow: 0px 1px 2px rgba(60, 64, 67, 0.3), 0px 1px 3px 1px rgba(60, 64, 67, 0.15);\n",
              "      fill: #174EA6;\n",
              "    }\n",
              "\n",
              "    .colab-df-buttons div {\n",
              "      margin-bottom: 4px;\n",
              "    }\n",
              "\n",
              "    [theme=dark] .colab-df-convert {\n",
              "      background-color: #3B4455;\n",
              "      fill: #D2E3FC;\n",
              "    }\n",
              "\n",
              "    [theme=dark] .colab-df-convert:hover {\n",
              "      background-color: #434B5C;\n",
              "      box-shadow: 0px 1px 3px 1px rgba(0, 0, 0, 0.15);\n",
              "      filter: drop-shadow(0px 1px 2px rgba(0, 0, 0, 0.3));\n",
              "      fill: #FFFFFF;\n",
              "    }\n",
              "  </style>\n",
              "\n",
              "    <script>\n",
              "      const buttonEl =\n",
              "        document.querySelector('#df-c86ab1e7-de15-4e27-982a-a562356f0661 button.colab-df-convert');\n",
              "      buttonEl.style.display =\n",
              "        google.colab.kernel.accessAllowed ? 'block' : 'none';\n",
              "\n",
              "      async function convertToInteractive(key) {\n",
              "        const element = document.querySelector('#df-c86ab1e7-de15-4e27-982a-a562356f0661');\n",
              "        const dataTable =\n",
              "          await google.colab.kernel.invokeFunction('convertToInteractive',\n",
              "                                                    [key], {});\n",
              "        if (!dataTable) return;\n",
              "\n",
              "        const docLinkHtml = 'Like what you see? Visit the ' +\n",
              "          '<a target=\"_blank\" href=https://colab.research.google.com/notebooks/data_table.ipynb>data table notebook</a>'\n",
              "          + ' to learn more about interactive tables.';\n",
              "        element.innerHTML = '';\n",
              "        dataTable['output_type'] = 'display_data';\n",
              "        await google.colab.output.renderOutput(dataTable, element);\n",
              "        const docLink = document.createElement('div');\n",
              "        docLink.innerHTML = docLinkHtml;\n",
              "        element.appendChild(docLink);\n",
              "      }\n",
              "    </script>\n",
              "  </div>\n",
              "\n",
              "\n",
              "<div id=\"df-0ebac3fc-fe7f-4760-9eaf-325530e0b4d2\">\n",
              "  <button class=\"colab-df-quickchart\" onclick=\"quickchart('df-0ebac3fc-fe7f-4760-9eaf-325530e0b4d2')\"\n",
              "            title=\"Suggest charts\"\n",
              "            style=\"display:none;\">\n",
              "\n",
              "<svg xmlns=\"http://www.w3.org/2000/svg\" height=\"24px\"viewBox=\"0 0 24 24\"\n",
              "     width=\"24px\">\n",
              "    <g>\n",
              "        <path d=\"M19 3H5c-1.1 0-2 .9-2 2v14c0 1.1.9 2 2 2h14c1.1 0 2-.9 2-2V5c0-1.1-.9-2-2-2zM9 17H7v-7h2v7zm4 0h-2V7h2v10zm4 0h-2v-4h2v4z\"/>\n",
              "    </g>\n",
              "</svg>\n",
              "  </button>\n",
              "\n",
              "<style>\n",
              "  .colab-df-quickchart {\n",
              "      --bg-color: #E8F0FE;\n",
              "      --fill-color: #1967D2;\n",
              "      --hover-bg-color: #E2EBFA;\n",
              "      --hover-fill-color: #174EA6;\n",
              "      --disabled-fill-color: #AAA;\n",
              "      --disabled-bg-color: #DDD;\n",
              "  }\n",
              "\n",
              "  [theme=dark] .colab-df-quickchart {\n",
              "      --bg-color: #3B4455;\n",
              "      --fill-color: #D2E3FC;\n",
              "      --hover-bg-color: #434B5C;\n",
              "      --hover-fill-color: #FFFFFF;\n",
              "      --disabled-bg-color: #3B4455;\n",
              "      --disabled-fill-color: #666;\n",
              "  }\n",
              "\n",
              "  .colab-df-quickchart {\n",
              "    background-color: var(--bg-color);\n",
              "    border: none;\n",
              "    border-radius: 50%;\n",
              "    cursor: pointer;\n",
              "    display: none;\n",
              "    fill: var(--fill-color);\n",
              "    height: 32px;\n",
              "    padding: 0;\n",
              "    width: 32px;\n",
              "  }\n",
              "\n",
              "  .colab-df-quickchart:hover {\n",
              "    background-color: var(--hover-bg-color);\n",
              "    box-shadow: 0 1px 2px rgba(60, 64, 67, 0.3), 0 1px 3px 1px rgba(60, 64, 67, 0.15);\n",
              "    fill: var(--button-hover-fill-color);\n",
              "  }\n",
              "\n",
              "  .colab-df-quickchart-complete:disabled,\n",
              "  .colab-df-quickchart-complete:disabled:hover {\n",
              "    background-color: var(--disabled-bg-color);\n",
              "    fill: var(--disabled-fill-color);\n",
              "    box-shadow: none;\n",
              "  }\n",
              "\n",
              "  .colab-df-spinner {\n",
              "    border: 2px solid var(--fill-color);\n",
              "    border-color: transparent;\n",
              "    border-bottom-color: var(--fill-color);\n",
              "    animation:\n",
              "      spin 1s steps(1) infinite;\n",
              "  }\n",
              "\n",
              "  @keyframes spin {\n",
              "    0% {\n",
              "      border-color: transparent;\n",
              "      border-bottom-color: var(--fill-color);\n",
              "      border-left-color: var(--fill-color);\n",
              "    }\n",
              "    20% {\n",
              "      border-color: transparent;\n",
              "      border-left-color: var(--fill-color);\n",
              "      border-top-color: var(--fill-color);\n",
              "    }\n",
              "    30% {\n",
              "      border-color: transparent;\n",
              "      border-left-color: var(--fill-color);\n",
              "      border-top-color: var(--fill-color);\n",
              "      border-right-color: var(--fill-color);\n",
              "    }\n",
              "    40% {\n",
              "      border-color: transparent;\n",
              "      border-right-color: var(--fill-color);\n",
              "      border-top-color: var(--fill-color);\n",
              "    }\n",
              "    60% {\n",
              "      border-color: transparent;\n",
              "      border-right-color: var(--fill-color);\n",
              "    }\n",
              "    80% {\n",
              "      border-color: transparent;\n",
              "      border-right-color: var(--fill-color);\n",
              "      border-bottom-color: var(--fill-color);\n",
              "    }\n",
              "    90% {\n",
              "      border-color: transparent;\n",
              "      border-bottom-color: var(--fill-color);\n",
              "    }\n",
              "  }\n",
              "</style>\n",
              "\n",
              "  <script>\n",
              "    async function quickchart(key) {\n",
              "      const quickchartButtonEl =\n",
              "        document.querySelector('#' + key + ' button');\n",
              "      quickchartButtonEl.disabled = true;  // To prevent multiple clicks.\n",
              "      quickchartButtonEl.classList.add('colab-df-spinner');\n",
              "      try {\n",
              "        const charts = await google.colab.kernel.invokeFunction(\n",
              "            'suggestCharts', [key], {});\n",
              "      } catch (error) {\n",
              "        console.error('Error during call to suggestCharts:', error);\n",
              "      }\n",
              "      quickchartButtonEl.classList.remove('colab-df-spinner');\n",
              "      quickchartButtonEl.classList.add('colab-df-quickchart-complete');\n",
              "    }\n",
              "    (() => {\n",
              "      let quickchartButtonEl =\n",
              "        document.querySelector('#df-0ebac3fc-fe7f-4760-9eaf-325530e0b4d2 button');\n",
              "      quickchartButtonEl.style.display =\n",
              "        google.colab.kernel.accessAllowed ? 'block' : 'none';\n",
              "    })();\n",
              "  </script>\n",
              "</div>\n",
              "\n",
              "    </div>\n",
              "  </div>\n"
            ],
            "application/vnd.google.colaboratory.intrinsic+json": {
              "type": "dataframe",
              "summary": "{\n  \"name\": \"data_csv\",\n  \"rows\": 8,\n  \"fields\": [\n    {\n      \"column\": \"SAT\",\n      \"properties\": {\n        \"dtype\": \"number\",\n        \"std\": 820.0582288582201,\n        \"min\": 84.0,\n        \"max\": 2050.0,\n        \"num_unique_values\": 8,\n        \"samples\": [\n          1845.2738095238096,\n          1846.0,\n          84.0\n        ],\n        \"semantic_type\": \"\",\n        \"description\": \"\"\n      }\n    },\n    {\n      \"column\": \"GPA\",\n      \"properties\": {\n        \"dtype\": \"number\",\n        \"std\": 28.71613150729136,\n        \"min\": 0.27161709490036023,\n        \"max\": 84.0,\n        \"num_unique_values\": 8,\n        \"samples\": [\n          3.330238095238095,\n          3.38,\n          84.0\n        ],\n        \"semantic_type\": \"\",\n        \"description\": \"\"\n      }\n    }\n  ]\n}"
            }
          },
          "metadata": {},
          "execution_count": 6
        }
      ]
    },
    {
      "cell_type": "markdown",
      "source": [
        "## Step 4: Create Regression model"
      ],
      "metadata": {
        "id": "7qmtBqTHci3T"
      }
    },
    {
      "cell_type": "markdown",
      "source": [
        "### 4(A) Define the dependent and independent variables\n",
        "Let's define a predictive model using linear regression between independent variable 'x' and dependent variable 'y' using the equation: y = m*x + c, where 'm' is the slope of the fit line and 'c' is its y-intercept.\n",
        "\n",
        "In the data provided, 'SAT' score will be the independent variable, and 'GPA' value will be the dependent variable"
      ],
      "metadata": {
        "id": "z5PbvYkreFN_"
      }
    },
    {
      "cell_type": "code",
      "source": [
        "x= data_csv['SAT'] #defining the independent variable\n",
        "y= data_csv['GPA'] #defining the dependent variable"
      ],
      "metadata": {
        "id": "mGgO89i0b_Yh"
      },
      "execution_count": 7,
      "outputs": []
    },
    {
      "cell_type": "markdown",
      "source": [
        "### 4(B) Perform Exploratory Data Analysis (EDA)\n",
        "Here, we use scatter plot to perform EDA."
      ],
      "metadata": {
        "id": "J9YY_IzGh8wj"
      }
    },
    {
      "cell_type": "code",
      "source": [
        "plt.scatter(x,y)  #define a scatter plot\n",
        "plt.xlabel('SAT')\n",
        "plt.ylabel('GPA')\n",
        "plt.title('GPA vs. SAT scores') #define the title of the plot\n",
        "plt.show() #show the scatter plot"
      ],
      "metadata": {
        "colab": {
          "base_uri": "https://localhost:8080/",
          "height": 480
        },
        "id": "95ybtY2HiKUQ",
        "outputId": "eb5c0795-626f-477b-f883-c15dddf4bcd7"
      },
      "execution_count": 8,
      "outputs": [
        {
          "output_type": "display_data",
          "data": {
            "text/plain": [
              "<Figure size 640x480 with 1 Axes>"
            ],
            "image/png": "[encoded data removed]"
          },
          "metadata": {}
        }
      ]
    },
    {
      "cell_type": "markdown",
      "source": [
        "### 4(C) Perform Regression analysis\n",
        "Here, we perform following steps:\n",
        "1. Prepare the independent variable data (X) for linear regression by adding a constant term.\n",
        "\n",
        "A linear regression model: y = mx+c can also be represented in a polynomial form: y = c*x<sup>0</sup> + m*x<sup>1</sup>, where x<sup>0</sup> =1.\n",
        "\n",
        "When performing linear regression in Python using libraries like statsmodels or scikit-learn, calculations are often done using matrix operations. To accommodate the constant term 'c' in matrix form, we need to represent it as a separate column of 1s. This column of 1s effectively multiplies the intercept 'c' in the matrix calculation, ensuring that 'c' is included in the model."
      ],
      "metadata": {
        "id": "-tAiIi06jStK"
      }
    },
    {
      "cell_type": "code",
      "source": [
        "#Constant term (new column of 1s with same length as x) is added\n",
        "x1= sm.add_constant(x)\n",
        "#view before and after of adding a constant column\n",
        "print(x.head(5)) #returns first 5 rows of data\n",
        "print(x1.head(5)) #from here we can confirm that a column of 1 is added"
      ],
      "metadata": {
        "id": "oIrxwHR-inOj",
        "colab": {
          "base_uri": "https://localhost:8080/"
        },
        "outputId": "dccaf1db-4917-49be-fd35-ad8e9c17bc90"
      },
      "execution_count": 9,
      "outputs": [
        {
          "output_type": "stream",
          "name": "stdout",
          "text": [
            "0    1714\n",
            "1    1664\n",
            "2    1760\n",
            "3    1685\n",
            "4    1693\n",
            "Name: SAT, dtype: int64\n",
            "   const   SAT\n",
            "0    1.0  1714\n",
            "1    1.0  1664\n",
            "2    1.0  1760\n",
            "3    1.0  1685\n",
            "4    1.0  1693\n"
          ]
        }
      ]
    },
    {
      "cell_type": "markdown",
      "source": [
        "2. Fit a linear regression model using the OLS (Ordinary Least Square) method, with dependent variable 'y' and new independent variable 'x1'"
      ],
      "metadata": {
        "id": "WMMC8MjsqcVy"
      }
    },
    {
      "cell_type": "code",
      "source": [
        "result_OLS = sm.OLS(y,x1).fit()\n",
        "#Extract the coefficients\n",
        "coeff = result_OLS.params\n",
        "intercept = coeff[0]\n",
        "slope = coeff[1]\n",
        "print('Intercept of the fit (c):', intercept)\n",
        "print('Slope of the fit (m):', slope)"
      ],
      "metadata": {
        "colab": {
          "base_uri": "https://localhost:8080/"
        },
        "id": "tVUf7rD_pjMt",
        "outputId": "97221936-947e-4e07-fd46-4af05fca62df"
      },
      "execution_count": 10,
      "outputs": [
        {
          "output_type": "stream",
          "name": "stdout",
          "text": [
            "Intercept of the fit (c): 0.27504029966028876\n",
            "Slope of the fit (m): 0.0016556880500928112\n"
          ]
        },
        {
          "output_type": "stream",
          "name": "stderr",
          "text": [
            "<ipython-input-10-9e4426fee37b>:4: FutureWarning: Series.__getitem__ treating keys as positions is deprecated. In a future version, integer keys will always be treated as labels (consistent with DataFrame behavior). To access a value by position, use `ser.iloc[pos]`\n",
            "  intercept = coeff[0]\n",
            "<ipython-input-10-9e4426fee37b>:5: FutureWarning: Series.__getitem__ treating keys as positions is deprecated. In a future version, integer keys will always be treated as labels (consistent with DataFrame behavior). To access a value by position, use `ser.iloc[pos]`\n",
            "  slope = coeff[1]\n"
          ]
        }
      ]
    },
    {
      "cell_type": "markdown",
      "source": [
        "3. Print/Display the summary of the fit\n",
        "\n",
        "**What to look-out in the summary?**\n",
        "\n",
        "A) Model Fit Strength (R-squared & Adjusted R-squared):\n",
        "\n",
        "\n",
        "- **R-squared:**\n",
        " - measures goodness of fit of the model (i.e. how well the model fits the data).\n",
        " - is the ratio of variability explained by regression to the total variability of the dataset.\n",
        " - Represents the proportion of variance in the dependent variable (y) explained by the independent variables (x), i.e., how much of the total variability of the data is explained by regression model.\n",
        " - Has value [0, 1]. A higher value (closer to 1) indicates a better fit.\n",
        " - Consider the context; a \"good\" R-squared varies across disciplines.\n",
        " -Example: If 0.406, indicates ~ 40% variance in GPA is explained by SAT score. It is a moderate fit. While statistically significant, a considerable portion of GPA variance is left unexplained, suggesting other influential factors.\n",
        "\n",
        "- Adjusted R-squared:\n",
        " - Like R-squared, measured how well the regression model fits the data.\n",
        " - Accounts for the number of predictors, penalizing the inclusion of unnecessary variables.\n",
        " - Use when comparing models with different numbers of predictors.\n",
        " - It is always lower than the R squared.\n",
        " -Example: If 0.399\n",
        "\n",
        "B) Overall Model Significance (F-statistic & Prob(F-statistic)):\n",
        "\n",
        "- F-statistic:\n",
        " - Tests if the independent variables, as a group, have a significant effect on the dependent variable.\n",
        " - A high F-statistic suggests a significant relationship.\n",
        "\n",
        "- **Prob(F-statistic):**\n",
        "- The p-value associated with the F-statistic.\n",
        "- A low p-value (typically < 0.05) indicates the overall model is statistically significant.\n",
        "\n",
        "\n",
        " C) Individual Variable Significance (Coefficients & P>|t|):\n",
        "\n",
        " - **Coefficients (coef):**\n",
        "  - Estimated values of the regression coefficients (e.g. 'm' and 'c').\n",
        "  - Indicate the change in the dependent variable for a one-unit change in the independent variable.\n",
        "  - Sign and magnitude are crucial.\n",
        "\n",
        " - t-statistic:\n",
        "  - = coeff/standard error\n",
        "  - small t-statistic will resuls in a high p-value (P>|t|).\n",
        "\n",
        "- **P>|t| (p-value):**\n",
        "  - Tests the significance of individual coefficients.\n",
        "  - A low p-value (typically < 0.05) indicates the coefficient is statistically significant.\n",
        "  - Confidence intervals also help to verify significance.\n",
        "\n",
        "\n",
        "  D) Assumption Violations (Residual Diagnostics: Omnibus, Durbin-Watson, Jarque-Bera, Skew, Kurtosis):\n",
        "\n",
        "- **Omnibus & Jarque-Bera (JB):**\n",
        "  - Test the normality of residuals.\n",
        "  - Significant p-values indicate **non-normal residuals.**\n",
        "  - JB test quantifies how far the distribution is from a normal distribution based on the skewness and kurtosis.\n",
        "\n",
        "\n",
        "- **Durbin-Watson:**\n",
        "  - Tests for **autocorrelation** (independence) of residuals.\n",
        "  - Values far from 2 indicate potential autocorrelation.\n",
        "\n",
        "- Skew & Kurtosis:\n",
        "  - Describe the shape of the residual distribution.\n",
        "  - Deviations from 0 (skew) and 3 (kurtosis) suggest non-normality.\n",
        "  - Residual analysis is important for model validity.\n",
        "\n",
        "\n",
        " E) Multicollinearity (Condition Number):\n",
        "\n",
        "- Condition Number:\n",
        "  - Refers to a situation in multiple linear regression where two or more independent variables are highly correlated.\n",
        "  - High values suggest multicollinearity, which can destabilize coefficient estimates.\n",
        "  - This is very important when there are multiple independent variables."
      ],
      "metadata": {
        "id": "g7MtWVrtrUl-"
      }
    },
    {
      "cell_type": "code",
      "source": [
        "result_OLS.summary()"
      ],
      "metadata": {
        "colab": {
          "base_uri": "https://localhost:8080/",
          "height": 478
        },
        "id": "eSmSgpyVraNP",
        "outputId": "c842781a-7cc9-414c-b644-465f9fdd8f18"
      },
      "execution_count": 11,
      "outputs": [
        {
          "output_type": "execute_result",
          "data": {
            "text/plain": [
              "<class 'statsmodels.iolib.summary.Summary'>\n",
              "\"\"\"\n",
              "                            OLS Regression Results                            \n",
              "==============================================================================\n",
              "Dep. Variable:                    GPA   R-squared:                       0.406\n",
              "Model:                            OLS   Adj. R-squared:                  0.399\n",
              "Method:                 Least Squares   F-statistic:                     56.05\n",
              "Date:                Mon, 24 Mar 2025   Prob (F-statistic):           7.20e-11\n",
              "Time:                        16:07:59   Log-Likelihood:                 12.672\n",
              "No. Observations:                  84   AIC:                            -21.34\n",
              "Df Residuals:                      82   BIC:                            -16.48\n",
              "Df Model:                           1                                         \n",
              "Covariance Type:            nonrobust                                         \n",
              "==============================================================================\n",
              "                 coef    std err          t      P>|t|      [0.025      0.975]\n",
              "------------------------------------------------------------------------------\n",
              "const          0.2750      0.409      0.673      0.503      -0.538       1.088\n",
              "SAT            0.0017      0.000      7.487      0.000       0.001       0.002\n",
              "==============================================================================\n",
              "Omnibus:                       12.839   Durbin-Watson:                   0.950\n",
              "Prob(Omnibus):                  0.002   Jarque-Bera (JB):               16.155\n",
              "Skew:                          -0.722   Prob(JB):                     0.000310\n",
              "Kurtosis:                       4.590   Cond. No.                     3.29e+04\n",
              "==============================================================================\n",
              "\n",
              "Notes:\n",
              "[1] Standard Errors assume that the covariance matrix of the errors is correctly specified.\n",
              "[2] The condition number is large, 3.29e+04. This might indicate that there are\n",
              "strong multicollinearity or other numerical problems.\n",
              "\"\"\""
            ],
            "text/html": [
              "<table class=\"simpletable\">\n",
              "<caption>OLS Regression Results</caption>\n",
              "<tr>\n",
              "  <th>Dep. Variable:</th>           <td>GPA</td>       <th>  R-squared:         </th> <td>   0.406</td>\n",
              "</tr>\n",
              "<tr>\n",
              "  <th>Model:</th>                   <td>OLS</td>       <th>  Adj. R-squared:    </th> <td>   0.399</td>\n",
              "</tr>\n",
              "<tr>\n",
              "  <th>Method:</th>             <td>Least Squares</td>  <th>  F-statistic:       </th> <td>   56.05</td>\n",
              "</tr>\n",
              "<tr>\n",
              "  <th>Date:</th>             <td>Mon, 24 Mar 2025</td> <th>  Prob (F-statistic):</th> <td>7.20e-11</td>\n",
              "</tr>\n",
              "<tr>\n",
              "  <th>Time:</th>                 <td>16:07:59</td>     <th>  Log-Likelihood:    </th> <td>  12.672</td>\n",
              "</tr>\n",
              "<tr>\n",
              "  <th>No. Observations:</th>      <td>    84</td>      <th>  AIC:               </th> <td>  -21.34</td>\n",
              "</tr>\n",
              "<tr>\n",
              "  <th>Df Residuals:</th>          <td>    82</td>      <th>  BIC:               </th> <td>  -16.48</td>\n",
              "</tr>\n",
              "<tr>\n",
              "  <th>Df Model:</th>              <td>     1</td>      <th>                     </th>     <td> </td>   \n",
              "</tr>\n",
              "<tr>\n",
              "  <th>Covariance Type:</th>      <td>nonrobust</td>    <th>                     </th>     <td> </td>   \n",
              "</tr>\n",
              "</table>\n",
              "<table class=\"simpletable\">\n",
              "<tr>\n",
              "    <td></td>       <th>coef</th>     <th>std err</th>      <th>t</th>      <th>P>|t|</th>  <th>[0.025</th>    <th>0.975]</th>  \n",
              "</tr>\n",
              "<tr>\n",
              "  <th>const</th> <td>    0.2750</td> <td>    0.409</td> <td>    0.673</td> <td> 0.503</td> <td>   -0.538</td> <td>    1.088</td>\n",
              "</tr>\n",
              "<tr>\n",
              "  <th>SAT</th>   <td>    0.0017</td> <td>    0.000</td> <td>    7.487</td> <td> 0.000</td> <td>    0.001</td> <td>    0.002</td>\n",
              "</tr>\n",
              "</table>\n",
              "<table class=\"simpletable\">\n",
              "<tr>\n",
              "  <th>Omnibus:</th>       <td>12.839</td> <th>  Durbin-Watson:     </th> <td>   0.950</td>\n",
              "</tr>\n",
              "<tr>\n",
              "  <th>Prob(Omnibus):</th> <td> 0.002</td> <th>  Jarque-Bera (JB):  </th> <td>  16.155</td>\n",
              "</tr>\n",
              "<tr>\n",
              "  <th>Skew:</th>          <td>-0.722</td> <th>  Prob(JB):          </th> <td>0.000310</td>\n",
              "</tr>\n",
              "<tr>\n",
              "  <th>Kurtosis:</th>      <td> 4.590</td> <th>  Cond. No.          </th> <td>3.29e+04</td>\n",
              "</tr>\n",
              "</table><br/><br/>Notes:<br/>[1] Standard Errors assume that the covariance matrix of the errors is correctly specified.<br/>[2] The condition number is large, 3.29e+04. This might indicate that there are<br/>strong multicollinearity or other numerical problems."
            ],
            "text/latex": "\\begin{center}\n\\begin{tabular}{lclc}\n\\toprule\n\\textbf{Dep. Variable:}    &       GPA        & \\textbf{  R-squared:         } &     0.406   \\\\\n\\textbf{Model:}            &       OLS        & \\textbf{  Adj. R-squared:    } &     0.399   \\\\\n\\textbf{Method:}           &  Least Squares   & \\textbf{  F-statistic:       } &     56.05   \\\\\n\\textbf{Date:}             & Mon, 24 Mar 2025 & \\textbf{  Prob (F-statistic):} &  7.20e-11   \\\\\n\\textbf{Time:}             &     16:07:59     & \\textbf{  Log-Likelihood:    } &    12.672   \\\\\n\\textbf{No. Observations:} &          84      & \\textbf{  AIC:               } &    -21.34   \\\\\n\\textbf{Df Residuals:}     &          82      & \\textbf{  BIC:               } &    -16.48   \\\\\n\\textbf{Df Model:}         &           1      & \\textbf{                     } &             \\\\\n\\textbf{Covariance Type:}  &    nonrobust     & \\textbf{                     } &             \\\\\n\\bottomrule\n\\end{tabular}\n\\begin{tabular}{lcccccc}\n               & \\textbf{coef} & \\textbf{std err} & \\textbf{t} & \\textbf{P$> |$t$|$} & \\textbf{[0.025} & \\textbf{0.975]}  \\\\\n\\midrule\n\\textbf{const} &       0.2750  &        0.409     &     0.673  &         0.503        &       -0.538    &        1.088     \\\\\n\\textbf{SAT}   &       0.0017  &        0.000     &     7.487  &         0.000        &        0.001    &        0.002     \\\\\n\\bottomrule\n\\end{tabular}\n\\begin{tabular}{lclc}\n\\textbf{Omnibus:}       & 12.839 & \\textbf{  Durbin-Watson:     } &    0.950  \\\\\n\\textbf{Prob(Omnibus):} &  0.002 & \\textbf{  Jarque-Bera (JB):  } &   16.155  \\\\\n\\textbf{Skew:}          & -0.722 & \\textbf{  Prob(JB):          } & 0.000310  \\\\\n\\textbf{Kurtosis:}      &  4.590 & \\textbf{  Cond. No.          } & 3.29e+04  \\\\\n\\bottomrule\n\\end{tabular}\n%\\caption{OLS Regression Results}\n\\end{center}\n\nNotes: \\newline\n [1] Standard Errors assume that the covariance matrix of the errors is correctly specified. \\newline\n [2] The condition number is large, 3.29e+04. This might indicate that there are \\newline\n strong multicollinearity or other numerical problems."
          },
          "metadata": {},
          "execution_count": 11
        }
      ]
    },
    {
      "cell_type": "markdown",
      "source": [
        "Here's a breakdown explanation of the results:\n",
        "\n",
        "A) Model Fit Strength (R-squared & Adjusted R-squared):\n",
        "\n",
        "\n",
        "- R-squared = 0.406, indicates ~ 40% variance in GPA is explained by SAT score. It is a moderate fit. While statistically significant, a considerable portion of GPA variance is left unexplained, suggesting other influential factors like income, gender, marital status etc. to be included to understand the full picture.\n",
        "\n",
        "- Adjusted R-squared = 0.399, due to only having one independent variable in the model, the difference between R-squared and Adjusted R squared is minimal.\n",
        "\n",
        "B) Overall Model Significance (F-statistic & Prob(F-statistic)):\n",
        "\n",
        "- F-statistic = 56.05, represents a high F-statistic\n",
        "- **Prob(F-statistic)** = 7.20e-11 (< 0.05), which is extremely low, indicating the **model is higlighly statistically significant.**\n",
        "\n",
        "\n",
        " C) Individual Variable Significance (Coefficients & P>|t|):\n",
        "\n",
        " - Coefficients (coef): from the fit, m (i.e., SAT) = 0.0017 ± 0.0000 and c = 0.2750 ± 0.409. <font color='red'>However, the estimated effect of SAT on GPA (0.0017) is less precise due to autocorrelation.\n",
        "  - Impact on Standard Errors: Autocorrelation typically leads to an underestimation of the standard errors of the coefficients. The standard error for SAT (0.000) is likely underestimated. This is a major problem because standard errors are used to calculate t-statistics and p-values.\n",
        "  - Impact on Hypothesis Testing (Significance of SAT): Because the standard errors are underestimated, the t-statistics are inflated, and the p-values are deflated. This increases the risk of a Type I error (falsely rejecting the null hypothesis). The very small p-value for SAT (0.000) is highly suspect. The autocorrelation makes it much more likely that we are incorrectly concluding that SAT is a significant predictor of GPA. We might be observing a statistically significant result that is not truly significant.</font>\n",
        "  \n",
        "\n",
        "- **P>|t| (p-value):**\n",
        "  -  P>|t| (const) = 0.503 (>> 0.05), is a high p-value, indicating that intercept term is **not statistically significant.**\n",
        "  -  P>|t| (SAT) = 0.000 (< 0.05), which is extremely low, indicating high statistical significance. <font color='red'>However, because of the non-normality, this p-value might be less reliable than we'd like. There's an increased risk of a Type I error (falsely rejecting the null hypothesis that SAT has no effect on GPA). Even though the p-value is very small, we should be cautious about overstating the significance of SAT. The non-normality makes the p-value less trustworthy. </font>\n",
        "  \n",
        "\n",
        "\n",
        "  D) Assumption Violations (Residual Diagnostics: Omnibus, Durbin-Watson, Jarque-Bera, Skew, Kurtosis):\n",
        "\n",
        "- prob(Omnibus) i.e. p-value = 0.002 (< 0.05), indicating **residuals are significantly non-normally distributed.**\n",
        "\n",
        "- prob(JB) = 0.000310 (<< 0.05), **indicating non-normality in residuals.**\n",
        "\n",
        "- Durbin-Watson = 0.950, far from 2 (the ideal for no autocorrelation), suggesting **potential autocorrelatioin the residuals.**\n",
        "  \n",
        "- Skew = -0.722, indicates negative skew\n",
        "- Kurtosis = 4.590, indicates heavier tails than a normal distribution\n",
        "  \n",
        "\n",
        "\n",
        " E) Multicollinearity (Condition Number):\n",
        "\n",
        "- Condition Number = 3.29e+04, a high value, but less concerning in this single-predictor model.\n",
        "\n",
        "\n",
        "**Summary:**\n",
        "- prob(F-statistic) suggest that model is statistically significant (i.e., we can trust that there is a relationship between the variables 'x' and 'y'), but\n",
        "- assumption (normality and auto-correlation) violations reduce the reliability of the statistical inferences (i.e., can't trust the exact values of the coefficients, or the p-values associated withe the individual coefficients.)\n",
        "- In short: the model can still be used for prediction, but the confidence of the predictions is lowered.\n",
        "  "
      ],
      "metadata": {
        "id": "25Nf8KJz3RhK"
      }
    },
    {
      "cell_type": "markdown",
      "source": [
        "4. Plot the regression equation with the data"
      ],
      "metadata": {
        "id": "bkgHeJTJbxE1"
      }
    },
    {
      "cell_type": "code",
      "source": [
        "plt.scatter(x,y)  #define a scatter plot\n",
        "#Define the regression model\n",
        "yhat = slope*x + intercept\n",
        "fig = plt.plot(x, yhat, lw=3, c='red', label='Linear Reg. fit')\n",
        "plt.xlabel('SAT')\n",
        "plt.ylabel('GPA')\n",
        "plt.title('GPA vs. SAT scores') #define the title of the plot\n",
        "plt.show() #show the scatter plot"
      ],
      "metadata": {
        "colab": {
          "base_uri": "https://localhost:8080/",
          "height": 480
        },
        "id": "i1BpKw96rkvQ",
        "outputId": "a09b115b-5e8f-4849-fded-0d7becd061b9"
      },
      "execution_count": 12,
      "outputs": [
        {
          "output_type": "display_data",
          "data": {
            "text/plain": [
              "<Figure size 640x480 with 1 Axes>"
            ],
            "image/png": "[encoded data removed]"
          },
          "metadata": {}
        }
      ]
    },
    {
      "cell_type": "markdown",
      "source": [
        "## Step 5: Check if the assumptions of Linear Regression Model hold\n",
        "There are 5 main assumptions of linear regression model:\n",
        "\n",
        "1. **Linearity:** The relationship between the dependent and independent variables is linear.\n",
        " - Test: Draw residual plot, mean(residuals) = 0\n",
        "2. **Independence:** The observations are independent of each other.\n",
        "  - Test: Observe Durbin-Watson Test.\n",
        "3. **No autocorrelation:** The residuals are not correlated with each other.\n",
        "  - Test: Observe Durbin-Watson Test.\n",
        "4. **Homoscedasticity:** The variance of errors (residuals) is constant across all levels of the independent variable(s).\n",
        " - Test: Draw residual plot, variance(residuals) = constant\n",
        "5. **Normality:** The errors (residuals) are normally distributed.\n",
        "  - Test: Observe the p-value of Jarque-Bera (JB) test, Kursosis and Skewness values. Can additionally plot a histogram of residuals and overlay the normal distribution for comparison.\n",
        "6. **No multicollinearity:** The independent variables are not highly correlated with each other.\n",
        "  - Since, we only have one independent variable in this model, we can't test multicollinearity.\n",
        "\n",
        "\n",
        "Let's see how we can confirm or deny the above assumptions:"
      ],
      "metadata": {
        "id": "LUqg9PWZg4aV"
      }
    },
    {
      "cell_type": "markdown",
      "source": [
        "### 5(A) Linearity\n",
        "Draw a 'Residual plot' (plot of residuals vs fitted values).\n",
        "\n",
        "**Residuals** are the differences between the observed and fitted values. **Fitted values** refer to the predicted values from the model.\n",
        "\n",
        "- Residual Plot Expectation:\n",
        "  - Residuals should be randomly scattered around zero (no clear curve or trend).\n",
        "  - If residuals show a curved pattern, this indicates non-linearity, suggesting that a linear model may not be the best fit.\n",
        "- **Key Focus:** The mean of residuals should be zero across all fitted values.\n",
        "- **Result:** Observed random scatter of residuals around 0. Also calculated mean-residual = 0.0. This supports linearity."
      ],
      "metadata": {
        "id": "aZcHKzHCmMYe"
      }
    },
    {
      "cell_type": "code",
      "source": [
        "residuals = result_OLS.resid #extract the residuals\n",
        "fitted_values = result_OLS.fittedvalues #fitted (predicted values) from the model\n",
        "\n",
        "plt.scatter(fitted_values, residuals)\n",
        "plt.xlabel('Fitted Values')\n",
        "plt.ylabel('Residuals')\n",
        "plt.title('Residual Plot')\n",
        "plt.show()\n",
        "\n",
        "mean_residual = np.mean(residuals)\n",
        "print(f\"Mean of residuals: {mean_residual:.5f}\")"
      ],
      "metadata": {
        "colab": {
          "base_uri": "https://localhost:8080/",
          "height": 497
        },
        "id": "OF8y9pW2mPmM",
        "outputId": "ac5544ea-f952-4954-d39f-7b3e878cbb66"
      },
      "execution_count": 13,
      "outputs": [
        {
          "output_type": "display_data",
          "data": {
            "text/plain": [
              "<Figure size 640x480 with 1 Axes>"
            ],
            "image/png": "[encoded data removed]"
          },
          "metadata": {}
        },
        {
          "output_type": "stream",
          "name": "stdout",
          "text": [
            "Mean of residuals: -0.00000\n"
          ]
        }
      ]
    },
    {
      "cell_type": "markdown",
      "source": [
        "### 5(B) Independence (of observations)\n",
        "\n",
        "- Independence refers to the condition where each observation (data point) in the dataset is unrelated to every other observation.\n",
        "- In the context of a **linear regression model**, independence implies that the residuals (errors) of the model are independent of each other, meaning value of one residual should not give any information about the value of another residual.\n",
        "- **Violating independence guarantees autocorrelation, but violating autocorrelation doesn’t automatically imply full independence is violated (e.g. in time series data).**\n",
        "- Can be tested using **Durbin-Watson:** test:\n",
        "  - Primarily tests for **first order autocorrelation**  of residuals. If residuals are auto-corelated they are not independent.\n",
        "  - The test statistic ranges from 0 to 4:\n",
        "    - DW ≈ 2: Residuals are likely independent, with no autocorrelation.\n",
        "    - DW < 2: Positive autocorrelation (residuals are correlated).\n",
        "    - DW > 2: Negative autocorrelation (residuals are inversely correlated).\n",
        "\n",
        "**Result:**\n",
        "-  We get DW = 0.95, suggest **potential positive auto-corelation** of residuals.\n",
        "- This suggests that there may be a correlation between consecutive residuals, which could indicate **dependence between observations.**\n"
      ],
      "metadata": {
        "id": "Ngw7Bj2zos-n"
      }
    },
    {
      "cell_type": "markdown",
      "source": [
        "### 5(C) No-autocorelation (of residuals)\n",
        "- Refers specifically to the absence of correlation between consecutive (or nearby) residuals in time-series or ordered data.\n",
        "- Autocorrelation means that the residuals at one point in time are related to residuals at another time point.\n",
        "- What is the difference with Independence?\n",
        "    - Autocorrelation refers to the correlation of residuals over time or in a sequence. In time-series data or ordered data, residuals can be correlated with each other, meaning that errors made at one point in time are related to errors made at a previous point.\n",
        "    - Independence, on the other hand, means that the residuals (or observations) are completely unrelated to each other.\n",
        "- **Result:** We get DW =0.95, implying positive auto-corelation of residuals."
      ],
      "metadata": {
        "id": "Gg6BafBvyZr_"
      }
    },
    {
      "cell_type": "markdown",
      "source": [
        "### 5(D) Homoscedasticity (Constant Variance)\n",
        "- The variance (spread) of residuals is constant across all levels of the independent variable.\n",
        "- To confirm above, plot 'Residual vs predicted values'\n",
        "- Residual Plot Expectation:\n",
        "  - Residuals should be randomly scattered with a consistent spread (equal variance) across all predicted values.\n",
        "  - If residuals form a cone shape (fanning out or narrowing), this indicates heteroscedasticity.\n",
        "- **Key Focus:** The spread of residuals should be constant.\n",
        "-**Result:** As obtained in the residual plot, it supports equal variance i.e., homoscedasticity."
      ],
      "metadata": {
        "id": "aCIh006k52-5"
      }
    },
    {
      "cell_type": "markdown",
      "source": [
        "### 5(E) Normality\n",
        "- Verified using the **Omnibus & Jarque-Bera (JB)** values\n",
        "  - Test the normality of residuals.\n",
        "  - Significant p-values indicate non-normal residuals.\n",
        "  - JB test quantifies how far the distribution is from a normal distribution based on the skewness and kurtosis.\n",
        "  -JB (H0): Data is normally distributed\n",
        "- Skewness.\n",
        "  - Skewness measures the asymmetry of a probability distribution\n",
        "  - Types:\n",
        "    - Symmetrical Distribution (Skewness = 0): The distribution is balanced around the mean, like a **normal distribution**.\n",
        "    - Positively Skewed (Skewness > 0): The tail of the distribution extends to the right. Most of the data is concentrated on the left, and there are some extreme values to the right.\n",
        "    - Negatively Skewed (Skewness < 0): The tail of the distribution extends to the left. Most of the data is concentrated on the right, and there are some extreme values to the left.\n",
        "- Kurtosis:\n",
        "  - Kurtosis measures the \"tailedness\" or peakedness of a distribution relative to a normal distribution.\n",
        "  - Types:\n",
        "    - Leptokurtic (Kurtosis > 3): A distribution with a higher peak and heavier tails than a normal distribution.\n",
        "    - Platykurtic (Kurtosis < 3): A distribution with a flatter peak and lighter tails than a normal distribution.\n",
        "    - Mesokurtic (Kursosis = 3): A distribution with a peak and tails similar to a **normal distribution**.\n",
        "\n",
        "\n",
        "  - Normal distribution:\n",
        "    - Skewness = 0\n",
        "    - Kurtosis = 3\n",
        "\n",
        "- Normality, can also be verified by plotting a histogram of the residual values (should look bell-shaped).\n",
        "\n",
        "- **Result:**\n",
        "  - prob(Omnibus) i.e. p-value = 0.002 (< 0.05), indicating residuals are significantly non-normally distributed.\n",
        "  - prob(JB) = 0.000310 (<< 0.05), reject H0, indicating non-normality in residuals.\n",
        "  - Skewness= -0.722 < 0 => Negatively skewed, i.e. tail towards left\n",
        "  - Kurtosis = 4.550 > 3 => Leptokurtic,i.e. higher peak and heavier tails"
      ],
      "metadata": {
        "id": "xIQ0XXkO7pWa"
      }
    },
    {
      "cell_type": "code",
      "source": [
        "import scipy.stats as stats  # This is required to use 'stats'\n",
        "#plot histogram of the residuals\n",
        "residuals = result_OLS.resid\n",
        "plt.hist(residuals, bins=15, edgecolor='black')\n",
        "\n",
        "\n",
        "# Overlay normal distribution curve\n",
        "mean, std = np.mean(residuals), np.std(residuals)\n",
        "x = np.linspace(min(residuals), max(residuals), 100)\n",
        "plt.plot(x, stats.norm.pdf(x, mean, std), color='red', linewidth=2, label='Normal Curve')\n",
        "\n",
        "\n",
        "plt.title('Histogram of Residuals')\n",
        "plt.xlabel('Residuals')\n",
        "plt.ylabel('Frequency')\n",
        "plt.legend()\n",
        "plt.show()"
      ],
      "metadata": {
        "colab": {
          "base_uri": "https://localhost:8080/",
          "height": 480
        },
        "id": "LyLO9fJ9DaHK",
        "outputId": "b1382286-21b3-4866-cf32-274656ba8fbb"
      },
      "execution_count": 25,
      "outputs": [
        {
          "output_type": "display_data",
          "data": {
            "text/plain": [
              "<Figure size 640x480 with 1 Axes>"
            ],
            "image/png": "[encoded data removed]"
          },
          "metadata": {}
        }
      ]
    },
    {
      "cell_type": "markdown",
      "source": [
        "## Step 6: Summarization of the violations in linearity assumptions and their impact\n",
        "In this linear regression model with 84 observations, the violations of assumptions have the following impacts:\n",
        "\n",
        "- **Non-Normality:** The non-normality of the residuals, indicated by the Jarque-Bera test, raises concerns about the reliability of statistical inferences. Because the test suggests the data's skewness and kurtosis deviate from a normal distribution, *the accuracy of p-values and confidence intervals is affected.*\n",
        "\n",
        "- **Autocorrelation:** The presence of autocorrelation, shown by the Durbin-Watson statistic, is a major concern. Because the Durbin-Watson statistic indicates positive autocorrelation, the p-value for SAT is likely invalid, *making it difficult to confidently claim SAT is a significant predictor, and the coefficient estimates are less precise.*"
      ],
      "metadata": {
        "id": "o3KprmqOanaz"
      }
    },
    {
      "cell_type": "markdown",
      "source": [
        "## Step 7: How to address the above violations in linearity assumptions?\n",
        "**Increase Sample Size (for normality):**\n",
        "- If feasible, increasing the sample size can help mitigate the impact of non-normality.\n",
        "- With larger samples, the Central Limit Theorem becomes more effective in ensuring that the distribution of the sampling mean is approximately normal, even if the underlying data is not.\n",
        "\n",
        "**Generalized Least Square (GLS) method:**\n",
        "- GLS is used when OLS assumptions are violated, particularly heteroscedasticity (non-constant variance) and autocorrelation (correlation between errors), to provide more efficient estimates.\n",
        "- GLS works by transforming the data in a way that makes the OLS assumptions valid for the transformed data."
      ],
      "metadata": {
        "id": "A4ENJ153cSiS"
      }
    },
    {
      "cell_type": "code",
      "source": [],
      "metadata": {
        "id": "dhcUHSOegnFp"
      },
      "execution_count": null,
      "outputs": []
    }
  ]
}